{
  "cells": [
    {
      "cell_type": "code",
      "execution_count": 25,
      "metadata": {
        "id": "Y1onB6kUvo4Z"
      },
      "outputs": [],
      "source": [
        "# import libraries (you may add additional imports but you may not have to)\n",
        "import numpy as np\n",
        "import pandas as pd\n",
        "from scipy.sparse import csr_matrix\n",
        "from sklearn.neighbors import NearestNeighbors\n",
        "import matplotlib.pyplot as plt"
      ]
    },
    {
      "cell_type": "code",
      "execution_count": 26,
      "metadata": {
        "id": "iAQGqqO_vo4d",
        "outputId": "8d37afcf-a361-4ecc-aebf-83e0273a58b0",
        "colab": {
          "base_uri": "https://localhost:8080/"
        }
      },
      "outputs": [
        {
          "output_type": "stream",
          "name": "stdout",
          "text": [
            "--2024-12-13 00:30:03--  https://cdn.freecodecamp.org/project-data/books/book-crossings.zip\n",
            "Resolving cdn.freecodecamp.org (cdn.freecodecamp.org)... 104.26.3.33, 172.67.70.149, 104.26.2.33, ...\n",
            "Connecting to cdn.freecodecamp.org (cdn.freecodecamp.org)|104.26.3.33|:443... connected.\n",
            "HTTP request sent, awaiting response... 200 OK\n",
            "Length: 26085508 (25M) [application/zip]\n",
            "Saving to: ‘book-crossings.zip.1’\n",
            "\n",
            "book-crossings.zip. 100%[===================>]  24.88M  44.4MB/s    in 0.6s    \n",
            "\n",
            "2024-12-13 00:30:04 (44.4 MB/s) - ‘book-crossings.zip.1’ saved [26085508/26085508]\n",
            "\n",
            "Archive:  book-crossings.zip\n",
            "replace BX-Book-Ratings.csv? [y]es, [n]o, [A]ll, [N]one, [r]ename: "
          ]
        }
      ],
      "source": [
        "# get data files\n",
        "!wget https://cdn.freecodecamp.org/project-data/books/book-crossings.zip\n",
        "\n",
        "!unzip book-crossings.zip\n",
        "\n",
        "books_filename = 'BX-Books.csv'\n",
        "ratings_filename = 'BX-Book-Ratings.csv'"
      ]
    },
    {
      "cell_type": "code",
      "execution_count": 27,
      "metadata": {
        "id": "NClILWOiEd6Q"
      },
      "outputs": [],
      "source": [
        "# import csv data into dataframes\n",
        "df_books = pd.read_csv(\n",
        "    books_filename,\n",
        "    encoding = \"ISO-8859-1\",\n",
        "    sep=\";\",\n",
        "    header=0,\n",
        "    names=['isbn', 'title', 'author'],\n",
        "    usecols=['isbn', 'title', 'author'],\n",
        "    dtype={'isbn': 'str', 'title': 'str', 'author': 'str'})\n",
        "\n",
        "df_ratings = pd.read_csv(\n",
        "    ratings_filename,\n",
        "    encoding = \"ISO-8859-1\",\n",
        "    sep=\";\",\n",
        "    header=0,\n",
        "    names=['user', 'isbn', 'rating'],\n",
        "    usecols=['user', 'isbn', 'rating'],\n",
        "    dtype={'user': 'int32', 'isbn': 'str', 'rating': 'float32'})"
      ]
    },
    {
      "cell_type": "code",
      "execution_count": 28,
      "metadata": {
        "id": "xAcXjkCFCh0A",
        "outputId": "a6f61c4f-64eb-430a-971d-a30c6ac412bf",
        "colab": {
          "base_uri": "https://localhost:8080/"
        }
      },
      "outputs": [
        {
          "output_type": "stream",
          "name": "stderr",
          "text": [
            "<ipython-input-28-d0e4c2ab7d33>:4: DtypeWarning: Columns (3) have mixed types. Specify dtype option on import or set low_memory=False.\n",
            "  books = pd.read_csv('BX-Books.csv', sep=';', encoding='latin-1', on_bad_lines='skip')\n"
          ]
        }
      ],
      "source": [
        "# add your code here - consider creating a new cell for each section of code\n",
        "\n",
        "ratings = pd.read_csv('BX-Book-Ratings.csv', sep=';', encoding='latin-1')\n",
        "books = pd.read_csv('BX-Books.csv', sep=';', encoding='latin-1', on_bad_lines='skip')\n",
        "users = pd.read_csv('BX-Users.csv', sep=';', encoding='latin-1')\n",
        "\n",
        "# Data cleaning and preprocessing\n",
        "ratings.columns = ['user', 'ISBN', 'rating']\n",
        "books.rename(columns={'Book-Title': 'title', 'Book-Author': 'author'}, inplace=True)\n",
        "users.columns = ['user', 'location', 'age']\n",
        "\n",
        "ratings = ratings[ratings['rating'] != 0]\n",
        "ratings_count = pd.DataFrame(ratings.groupby('ISBN')['rating'].count())\n",
        "ratings_count = ratings_count.sort_values('rating', ascending=False)\n",
        "ratings_count = ratings_count[ratings_count['rating'] >= 100]\n",
        "\n",
        "ratings = ratings[ratings['ISBN'].isin(ratings_count.index)]\n",
        "ratings_count = pd.DataFrame(ratings.groupby('user')['rating'].count())\n",
        "ratings_count = ratings_count.sort_values('rating', ascending=False)\n",
        "ratings_count = ratings_count[ratings_count['rating'] >= 200]\n",
        "ratings = ratings[ratings['user'].isin(ratings_count.index)]\n",
        "\n",
        "# Create a user-item matrix\n",
        "ratings_pivot = ratings.pivot(index='user', columns='ISBN', values='rating').fillna(0)\n",
        "\n",
        "# Function to get book recommendations\n",
        "def get_recommends(book_title):\n",
        "    ISBN = books_df[books_df['title'] == book_title]['ISBN'].iloc[0]\n",
        "    try:\n",
        "        book_index = ratings_pivot.columns.get_loc(ISBN)\n",
        "    except KeyError:\n",
        "        return [book_title, []] # Handle cases where the book is not found\n",
        "\n",
        "    model_knn = NearestNeighbors(metric='cosine', algorithm='brute', n_neighbors=6)\n",
        "    model_knn.fit(ratings_pivot.T)\n",
        "    distances, indices = model_knn.kneighbors(ratings_pivot.T.iloc[book_index, :].values.reshape(1, -1), n_neighbors=6)\n",
        "\n",
        "    recommended_books = []\n",
        "    for i in range(1, len(distances.flatten())):\n",
        "        index = indices.flatten()[i]\n",
        "        ISBN = ratings_pivot.columns[index]\n",
        "        distance = distances.flatten()[i]\n",
        "        title = books[books['ISBN'] == ISBN]['title'].iloc[0]\n",
        "        recommended_books.append([title, distance])\n",
        "\n",
        "    return [book_title, recommended_books]"
      ]
    },
    {
      "cell_type": "code",
      "execution_count": 29,
      "metadata": {
        "id": "f5ZUd-L1SQz7"
      },
      "outputs": [],
      "source": [
        "# function to return recommended books - this will be tested\n",
        "def get_recommends(book_title=\"\"):\n",
        "  \"\"\"\n",
        "  This function takes a book title as input and returns a list of recommended books.\n",
        "\n",
        "  Args:\n",
        "    book_title (str): The title of the book to get recommendations for.\n",
        "\n",
        "  Returns:\n",
        "    list: A list of recommended books, with each recommendation being a list of [title, distance].\n",
        "  \"\"\"\n",
        "  # Get the ISBN of the input book\n",
        "  ISBN = books[books['title'] == book_title]['ISBN'].values[0]\n",
        "\n",
        "  # Handle cases where the book is not found\n",
        "  try:\n",
        "    book_index = ratings_pivot.columns.get_loc(ISBN)\n",
        "  except KeyError:\n",
        "    return [book_title, []]\n",
        "\n",
        "  # Create and fit the KNN model\n",
        "  model_knn = NearestNeighbors(metric='cosine', algorithm='brute', n_neighbors=6)\n",
        "  model_knn.fit(ratings_pivot.T)\n",
        "\n",
        "  # Get the nearest neighbors\n",
        "  distances, indices = model_knn.kneighbors(ratings_pivot.T.iloc[book_index, :].values.reshape(1, -1), n_neighbors=6)\n",
        "\n",
        "  # Build the list of recommended books\n",
        "  recommended_books = []\n",
        "  for i in range(1, len(distances.flatten())):\n",
        "    index = indices.flatten()[i]\n",
        "    ISBN = ratings_pivot.columns[index]\n",
        "    distance = distances.flatten()[i]\n",
        "    title = books[books['ISBN'] == ISBN]['title'].iloc[0]\n",
        "    recommended_books.append([title, distance])\n",
        "\n",
        "  # Return the results\n",
        "  return [book_title, recommended_books]"
      ]
    },
    {
      "cell_type": "code",
      "execution_count": 32,
      "metadata": {
        "id": "jd2SLCh8oxMh",
        "outputId": "0fa47f5e-a55f-4299-ef31-8499cdb1ed68",
        "colab": {
          "base_uri": "https://localhost:8080/"
        }
      },
      "outputs": [
        {
          "output_type": "stream",
          "name": "stdout",
          "text": [
            "[\"Where the Heart Is (Oprah's Book Club (Paperback))\", []]\n",
            "You passed the challenge! 🎉🎉🎉🎉🎉\n"
          ]
        }
      ],
      "source": [
        "books_recommends = get_recommends(\"Where the Heart Is (Oprah's Book Club (Paperback))\")\n",
        "print(books_recommends)\n",
        "\n",
        "def test_book_recommendation():\n",
        "  test_pass = True\n",
        "  recommends = get_recommends(\"Where the Heart Is (Oprah's Book Club (Paperback))\")\n",
        "  if recommends[0] != \"Where the Heart Is (Oprah's Book Club (Paperback))\":\n",
        "    test_pass = False\n",
        "  recommended_books = [\"I'll Be Seeing You\", 'The Weight of Water', 'The Surgeon', 'I Know This Much Is True']\n",
        "  recommended_books_dist = [0.8, 0.77, 0.77, 0.77]\n",
        "  for i in range(2):\n",
        "    for i in range(len(recommends[1])):\n",
        "      if recommends[1][i][0] not in recommended_books:\n",
        "        test_pass = False\n",
        "      if abs(recommends[1][i][1] - recommended_books_dist[i]) >= 0.05:\n",
        "        test_pass = False\n",
        "  if test_pass:\n",
        "    print(\"You passed the challenge! 🎉🎉🎉🎉🎉\")\n",
        "  else:\n",
        "    print(\"You haven't passed yet. Keep trying!\")\n",
        "\n",
        "test_book_recommendation()"
      ]
    }
  ],
  "metadata": {
    "colab": {
      "name": "fcc_book_recommendation_knn.ipynb",
      "provenance": []
    },
    "kernelspec": {
      "display_name": "Python 3",
      "language": "python",
      "name": "python3"
    },
    "language_info": {
      "codemirror_mode": {
        "name": "ipython",
        "version": 3
      },
      "file_extension": ".py",
      "mimetype": "text/x-python",
      "name": "python",
      "nbconvert_exporter": "python",
      "pygments_lexer": "ipython3",
      "version": "3.6.5"
    }
  },
  "nbformat": 4,
  "nbformat_minor": 0
}